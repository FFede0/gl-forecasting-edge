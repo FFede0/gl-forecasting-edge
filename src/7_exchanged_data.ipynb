{
 "cells": [
  {
   "cell_type": "markdown",
   "source": [
    "# Compute exchanged data"
   ],
   "metadata": {
    "collapsed": false
   }
  },
  {
   "cell_type": "code",
   "execution_count": 1,
   "outputs": [],
   "source": [
    "import json\n",
    "from pathlib import Path\n",
    "\n",
    "import networkx as nx\n",
    "import numpy as np\n",
    "from keras.saving.saving_api import load_model\n",
    "from matplotlib import pyplot as plt\n",
    "\n",
    "from gossiplearning.config import Config"
   ],
   "metadata": {
    "collapsed": false,
    "ExecuteTime": {
     "end_time": "2023-10-11T05:36:11.240426Z",
     "start_time": "2023-10-11T05:36:07.169198Z"
    }
   }
  },
  {
   "cell_type": "code",
   "execution_count": 5,
   "metadata": {
    "collapsed": true,
    "ExecuteTime": {
     "end_time": "2023-10-11T05:36:48.527189Z",
     "start_time": "2023-10-11T05:36:48.519035Z"
    }
   },
   "outputs": [],
   "source": [
    "N_TIMESTEPS = 4\n",
    "\n",
    "with open(\"config.json\", \"r\") as f:\n",
    "    config = Config.model_validate(json.load(f))"
   ]
  },
  {
   "cell_type": "code",
   "execution_count": 3,
   "outputs": [],
   "source": [
    "dataset_base_dir = Path(\"data/datasets/1func_10nodes_3k\")\n",
    "network_base_dir = Path(\"data/networks/10_nodes_3k\")"
   ],
   "metadata": {
    "collapsed": false,
    "ExecuteTime": {
     "end_time": "2023-10-11T05:36:13.159782Z",
     "start_time": "2023-10-11T05:36:13.155492Z"
    }
   }
  },
  {
   "cell_type": "markdown",
   "source": [
    "### Centralized exchanged bytes"
   ],
   "metadata": {
    "collapsed": false
   }
  },
  {
   "cell_type": "code",
   "execution_count": 23,
   "outputs": [],
   "source": [
    "def get_timeseries_size(dataset: dict[str, np.ndarray]) -> int:\n",
    "    # every dataset entry is a different timestep. We should also count the first N-1 timesteps that\n",
    "    # do not have an entry in X_train since we don't have enough past data for them (N is the number of\n",
    "    # previous steps used for prediction)\n",
    "    n_timesteps = len(dataset[\"X_train\"]) + len(dataset[\"X_val\"]) + N_TIMESTEPS\n",
    "    timestep_size = dataset[\"Y_train\"][0].nbytes\n",
    "    \n",
    "    # if nodes agree on the frequency, only the first timestamp should be sent, and the size is negligible (one timestamp, int64)\n",
    "\n",
    "    return n_timesteps * timestep_size"
   ],
   "metadata": {
    "collapsed": false,
    "ExecuteTime": {
     "end_time": "2023-10-07T16:28:14.670225Z",
     "start_time": "2023-10-07T16:28:14.539122Z"
    }
   }
  },
  {
   "cell_type": "code",
   "execution_count": 30,
   "outputs": [],
   "source": [
    "# load the datasets\n",
    "n_simulations = 5\n",
    "\n",
    "exchanged_bytes = []\n",
    "\n",
    "for i in range(n_simulations):\n",
    "    network = nx.read_adjlist(network_base_dir / str(i) / \"adj_list.txt\", nodetype=int)\n",
    "    paths_length = tuple(\n",
    "        dist for node, dist in nx.shortest_path_length(network)\n",
    "    )\n",
    "    \n",
    "    dataset_sizes = [\n",
    "        get_timeseries_size(np.load(dataset_base_dir / str(i)/ f\"4in\" / f\"node_{node}.npz\"))\n",
    "        for node in range(config.n_nodes)\n",
    "    ]\n",
    "        \n",
    "    for master_node in range(config.n_nodes):\n",
    "        simulation_exchanged_data = 0\n",
    "        for node in range(config.n_nodes):\n",
    "            simulation_exchanged_data += dataset_sizes[node] * paths_length[master_node][node]\n",
    "\n",
    "        exchanged_bytes.append(simulation_exchanged_data)"
   ],
   "metadata": {
    "collapsed": false,
    "ExecuteTime": {
     "end_time": "2023-10-07T16:31:49.601782Z",
     "start_time": "2023-10-07T16:31:49.435527Z"
    }
   }
  },
  {
   "cell_type": "code",
   "execution_count": 34,
   "outputs": [],
   "source": [
    "with open(dataset_base_dir / \"exchanged_bytes.txt\", \"w\") as f:\n",
    "    print(exchanged_bytes, file=f)"
   ],
   "metadata": {
    "collapsed": false,
    "ExecuteTime": {
     "end_time": "2023-10-07T16:32:34.766280Z",
     "start_time": "2023-10-07T16:32:34.618899Z"
    }
   }
  },
  {
   "cell_type": "markdown",
   "source": [
    "### Gossip exchanged bytes"
   ],
   "metadata": {
    "collapsed": false
   }
  },
  {
   "cell_type": "code",
   "execution_count": 6,
   "outputs": [
    {
     "name": "stdout",
     "output_type": "stream",
     "text": [
      "Metal device set to: Apple M1 Pro\n"
     ]
    }
   ],
   "source": [
    "# load one model to get the size (they are all the same)\n",
    "model_path = Path(config.workspace_dir) / \"0\" / \"models\" / \"0.h5\"\n",
    "model = load_model(str(model_path))"
   ],
   "metadata": {
    "collapsed": false,
    "ExecuteTime": {
     "end_time": "2023-10-11T05:36:52.534750Z",
     "start_time": "2023-10-11T05:36:51.268183Z"
    }
   }
  },
  {
   "cell_type": "code",
   "execution_count": 8,
   "outputs": [],
   "source": [
    "layer_weights = model.get_weights()\n",
    "model_weights_bytes = sum([lw.nbytes for lw in layer_weights])\n",
    "avg_exchanged_model_bytes = model_weights_bytes * config.training.perc_sent_weights"
   ],
   "metadata": {
    "collapsed": false,
    "ExecuteTime": {
     "end_time": "2023-10-11T05:37:04.280242Z",
     "start_time": "2023-10-11T05:37:04.093524Z"
    }
   }
  },
  {
   "cell_type": "code",
   "execution_count": 11,
   "outputs": [],
   "source": [
    "# avg_gossip_exchanged_bytes = 0\n",
    "# avg_num_of_messages = 0\n",
    "\n",
    "exp=\"grid_1fn_10n3k\"\n",
    "for i in range(0, 78):\n",
    "    dir = Path(f\"experiments/{exp}_{i}\")\n",
    "    gossip_exchanged_bytes = []\n",
    "    \n",
    "    for i in range(5):\n",
    "        history_path = Path(dir / str(i) / \"history.json\")\n",
    "        history = json.load(history_path.open(\"r\"))\n",
    "    \n",
    "        n_exchanged_messages = len(history[\"messages\"])\n",
    "        simulation_exchanged_data = n_exchanged_messages * avg_exchanged_model_bytes\n",
    "    \n",
    "        gossip_exchanged_bytes.append(simulation_exchanged_data)\n",
    "    \n",
    "    with open(dir / \"exchanged_data.txt\", \"w\") as f:\n",
    "        print(gossip_exchanged_bytes, file=f)"
   ],
   "metadata": {
    "collapsed": false,
    "ExecuteTime": {
     "end_time": "2023-10-11T05:41:20.751404Z",
     "start_time": "2023-10-11T05:41:20.204033Z"
    }
   }
  },
  {
   "cell_type": "markdown",
   "source": [
    "### Comparison"
   ],
   "metadata": {
    "collapsed": false
   }
  },
  {
   "cell_type": "code",
   "execution_count": 10,
   "outputs": [],
   "source": [
    "plt.ioff()\n",
    "\n",
    "fig, ax = plt.subplots()\n",
    "\n",
    "ax.bar(\n",
    "    [\"Centralized\", \"Gossip\"],\n",
    "    height=[avg_centralized_exchanged_bytes, avg_gossip_exchanged_bytes],\n",
    "    color=[\"tomato\", \"royalblue\"],\n",
    ")\n",
    "ax.set_title(\"Exchanged data comparison\")\n",
    "ax.set_ylabel(\"Exchanged bytes\")\n",
    "\n",
    "plots_folder = Path(config.workspace_dir) / \"plots\"\n",
    "plots_folder.mkdir(parents=True, exist_ok=True)\n",
    "\n",
    "out_path = plots_folder / \"exchanged_data.png\"\n",
    "plt.savefig(out_path, dpi=300)"
   ],
   "metadata": {
    "collapsed": false,
    "ExecuteTime": {
     "end_time": "2023-08-30T09:27:37.149900Z",
     "start_time": "2023-08-30T09:27:36.936586Z"
    }
   }
  },
  {
   "cell_type": "code",
   "execution_count": 11,
   "outputs": [
    {
     "data": {
      "text/plain": "14.34"
     },
     "execution_count": 11,
     "metadata": {},
     "output_type": "execute_result"
    }
   ],
   "source": [
    "avg_num_of_messages"
   ],
   "metadata": {
    "collapsed": false,
    "ExecuteTime": {
     "end_time": "2023-08-30T09:27:37.338835Z",
     "start_time": "2023-08-30T09:27:37.330121Z"
    }
   }
  },
  {
   "cell_type": "code",
   "execution_count": 12,
   "outputs": [],
   "source": [
    "exchanged_data_df = pd.DataFrame(data=[\n",
    "    {\"exchanged_bytes\": avg_centralized_exchanged_bytes}, {\"exchanged_bytes\": avg_gossip_exchanged_bytes},\n",
    "], index=[\"Centralized\", \"Gossip\"])\n",
    "\n",
    "out_path = Path(config.workspace_dir) / \"exchanged_data.csv\"\n",
    "\n",
    "exchanged_data_df.to_csv(out_path)"
   ],
   "metadata": {
    "collapsed": false,
    "ExecuteTime": {
     "end_time": "2023-08-30T09:27:37.654280Z",
     "start_time": "2023-08-30T09:27:37.620391Z"
    }
   }
  },
  {
   "cell_type": "code",
   "execution_count": null,
   "outputs": [],
   "source": [],
   "metadata": {
    "collapsed": false
   }
  }
 ],
 "metadata": {
  "kernelspec": {
   "display_name": "Python 3",
   "language": "python",
   "name": "python3"
  },
  "language_info": {
   "codemirror_mode": {
    "name": "ipython",
    "version": 2
   },
   "file_extension": ".py",
   "mimetype": "text/x-python",
   "name": "python",
   "nbconvert_exporter": "python",
   "pygments_lexer": "ipython2",
   "version": "2.7.6"
  }
 },
 "nbformat": 4,
 "nbformat_minor": 0
}
