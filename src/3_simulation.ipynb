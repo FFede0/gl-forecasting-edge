{
 "cells": [
  {
   "cell_type": "code",
   "execution_count": 19,
   "outputs": [],
   "source": [
    "import functools\n",
    "import json\n",
    "import os\n",
    "from pathlib import Path\n",
    "\n",
    "from gossiplearning.config import Config\n",
    "from utils.gossip_training import get_node_dataset, round_trip_fn, model_transmission_fn, \\\n",
    "    run_simulation\n",
    "from utils.model_creators import create_LSTM\n",
    "from utils.multiprocessing import run_in_parallel\n",
    "\n",
    "os.environ['TF_CPP_MIN_LOG_LEVEL'] = '2'"
   ],
   "metadata": {
    "collapsed": false,
    "ExecuteTime": {
     "end_time": "2023-10-04T11:22:02.674041Z",
     "start_time": "2023-10-04T11:22:02.671928Z"
    }
   }
  },
  {
   "cell_type": "code",
   "execution_count": 20,
   "outputs": [],
   "source": [
    "with open(\"config.json\", \"r\") as f:\n",
    "    config = json.load(f)"
   ],
   "metadata": {
    "collapsed": false,
    "ExecuteTime": {
     "end_time": "2023-10-04T11:22:02.912244Z",
     "start_time": "2023-10-04T11:22:02.909457Z"
    }
   }
  },
  {
   "cell_type": "code",
   "execution_count": 21,
   "outputs": [],
   "source": [
    "config = Config.model_validate(config)\n",
    "\n",
    "workspace_path = Path(config.workspace_dir)\n",
    "workspace_path.mkdir(exist_ok=True, parents=True)\n",
    "with (workspace_path / \"config.json\").open(\"w\") as f:\n",
    "    json.dump(config.model_dump(), f, indent=True)"
   ],
   "metadata": {
    "collapsed": false,
    "ExecuteTime": {
     "end_time": "2023-10-04T11:22:03.154445Z",
     "start_time": "2023-10-04T11:22:03.150696Z"
    }
   }
  },
  {
   "cell_type": "code",
   "execution_count": 22,
   "outputs": [],
   "source": [
    "model_creator = functools.partial(create_LSTM, config=config)"
   ],
   "metadata": {
    "collapsed": false,
    "ExecuteTime": {
     "end_time": "2023-10-04T11:22:03.362063Z",
     "start_time": "2023-10-04T11:22:03.357475Z"
    }
   }
  },
  {
   "cell_type": "code",
   "execution_count": 23,
   "outputs": [
    {
     "name": "stdout",
     "output_type": "stream",
     "text": [
      "Model: \"model_2\"\n",
      "_________________________________________________________________\n",
      " Layer (type)                Output Shape              Param #   \n",
      "=================================================================\n",
      " input_3 (InputLayer)        [(None, 4, 9)]            0         \n",
      "                                                                 \n",
      " sequential_2 (Sequential)   (None, 50)                32200     \n",
      "                                                                 \n",
      " fn_0 (Dense)                (None, 1)                 51        \n",
      "                                                                 \n",
      "=================================================================\n",
      "Total params: 32,251\n",
      "Trainable params: 32,251\n",
      "Non-trainable params: 0\n",
      "_________________________________________________________________\n"
     ]
    }
   ],
   "source": [
    "model_creator().summary()"
   ],
   "metadata": {
    "collapsed": false,
    "ExecuteTime": {
     "end_time": "2023-10-04T11:22:04.006303Z",
     "start_time": "2023-10-04T11:22:03.589764Z"
    }
   }
  },
  {
   "cell_type": "code",
   "execution_count": 24,
   "outputs": [],
   "source": [
    "datasets_folder = Path(f\"data/datasets/1func_10nodes_3k\")\n",
    "networks_folder = Path(f\"data/networks/10_nodes_3k\")"
   ],
   "metadata": {
    "collapsed": false,
    "ExecuteTime": {
     "end_time": "2023-10-04T11:22:04.608081Z",
     "start_time": "2023-10-04T11:22:04.603635Z"
    }
   }
  },
  {
   "cell_type": "code",
   "execution_count": 25,
   "outputs": [],
   "source": [
    "# for i in range(1):\n",
    "#     run_simulation(\n",
    "#         config=config,\n",
    "#         simulation_number=i,\n",
    "#         network_folder=networks_folder / str(i),\n",
    "#         round_trip_fn=round_trip_fn,\n",
    "#         model_transmission_fn=model_transmission_fn,\n",
    "#         node_data_fn=functools.partial(\n",
    "#             get_node_dataset, base_folder=datasets_folder, simulation_number=i, input_steps=4),\n",
    "#         model_creator=model_creator,\n",
    "#     )"
   ],
   "metadata": {
    "collapsed": false,
    "ExecuteTime": {
     "end_time": "2023-10-04T11:22:06.691468Z",
     "start_time": "2023-10-04T11:22:06.687106Z"
    }
   }
  },
  {
   "cell_type": "code",
   "execution_count": 26,
   "outputs": [
    {
     "name": "stdout",
     "output_type": "stream",
     "text": [
      "Metal device set to: Apple M1 Pro\n",
      "Metal device set to: Apple M1 Pro\n",
      "1/10 stopped! (Time 101s)\n",
      "2/10 stopped! (Time 114s)\n",
      "1/10 stopped! (Time 106s)\n",
      "3/10 stopped! (Time 119s)\n",
      "2/10 stopped! (Time 108s)\n",
      "3/10 stopped! (Time 108s)\n",
      "4/10 stopped! (Time 111s)\n",
      "4/10 stopped! (Time 122s)\n",
      "5/10 stopped! (Time 125s)\n",
      "6/10 stopped! (Time 127s)\n",
      "5/10 stopped! (Time 121s)\n",
      "7/10 stopped! (Time 132s)\n",
      "6/10 stopped! (Time 124s)\n",
      "8/10 stopped! (Time 158s)\n",
      "7/10 stopped! (Time 143s)\n",
      "9/10 stopped! (Time 161s)\n",
      "8/10 stopped! (Time 148s)\n",
      "9/10 stopped! (Time 149s)\n",
      "10/10 stopped! (Time 184s)\n",
      "10/10 stopped! (Time 159s)\n",
      "\n",
      "systemMemory: 32.00 GB\n",
      "maxCacheSize: 10.67 GB\n",
      "\n",
      "systemMemory: 32.00 GB\n",
      "maxCacheSize: 10.67 GB\n"
     ]
    }
   ],
   "source": [
    "run_in_parallel(\n",
    "    [\n",
    "        functools.partial(\n",
    "           run_simulation,\n",
    "           config=config,\n",
    "           simulation_number=i,\n",
    "           network_folder=networks_folder / str(i),\n",
    "           round_trip_fn=round_trip_fn,\n",
    "           model_transmission_fn=model_transmission_fn,\n",
    "           node_data_fn=functools.partial(\n",
    "               get_node_dataset, \n",
    "               base_folder=datasets_folder, \n",
    "               simulation_number=i, \n",
    "               input_steps=4\n",
    "           ),\n",
    "           model_creator=model_creator)\n",
    "        for i in range(2)\n",
    "    ]\n",
    ")"
   ],
   "metadata": {
    "collapsed": false,
    "ExecuteTime": {
     "end_time": "2023-10-04T11:59:48.993026Z",
     "start_time": "2023-10-04T11:22:10.316906Z"
    }
   }
  },
  {
   "cell_type": "code",
   "execution_count": null,
   "outputs": [],
   "source": [],
   "metadata": {
    "collapsed": false
   }
  }
 ],
 "metadata": {
  "kernelspec": {
   "display_name": "Python 3",
   "language": "python",
   "name": "python3"
  },
  "language_info": {
   "codemirror_mode": {
    "name": "ipython",
    "version": 2
   },
   "file_extension": ".py",
   "mimetype": "text/x-python",
   "name": "python",
   "nbconvert_exporter": "python",
   "pygments_lexer": "ipython2",
   "version": "2.7.6"
  }
 },
 "nbformat": 4,
 "nbformat_minor": 0
}
