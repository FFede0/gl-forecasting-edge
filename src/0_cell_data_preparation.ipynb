{
 "cells": [
  {
   "cell_type": "markdown",
   "metadata": {
    "collapsed": false
   },
   "source": [
    "# Cell Data Preparation"
   ]
  },
  {
   "cell_type": "markdown",
   "metadata": {
    "collapsed": false
   },
   "source": [
    "In this notebook the raw data contained in the [OpenCell ID dataset](https://opencellid.org/#zoom=16&lat=41.14945&lon=-8.61079) is cleaned and prepared for later use. The dataset contains the position and range of mobile antennas spread around the world."
   ]
  },
  {
   "cell_type": "markdown",
   "source": [
    "### Find map BBox"
   ],
   "metadata": {
    "collapsed": false
   }
  },
  {
   "cell_type": "markdown",
   "source": [
    "Given the coordinates (north west corner) and zoom level defined to get a [map of the centre of Milan](https://www.openstreetmap.org/#map=14/45.4646/9.1721), find the coordinates of the south east corner to get a boundary box (BBox) for the map tile. Reference [here](https://wiki.openstreetmap.org/wiki/Slippy_map_tilenames#Python)."
   ],
   "metadata": {
    "collapsed": false
   }
  },
  {
   "cell_type": "code",
   "execution_count": 25,
   "outputs": [
    {
     "name": "stdout",
     "output_type": "stream",
     "text": [
      "(9.1721, 9.1845703125, 45.46013063792099, 45.4646)\n"
     ]
    }
   ],
   "source": [
    "import math\n",
    "\n",
    "# geo:45.4646,9.1721?z=14\n",
    "nw_lat_degree = 45.4646\n",
    "nw_lon_degree = 9.1721\n",
    "zoom = 14\n",
    "\n",
    "# find tile number\n",
    "lat_rad = math.radians(nw_lat_degree)\n",
    "n = 1 << zoom\n",
    "x_tile_num = int((nw_lon_degree + 180.0) / 360.0 * n)\n",
    "y_tile_num = int((1.0 - math.asinh(math.tan(lat_rad)) / math.pi) / 2.0 * n)\n",
    "\n",
    "# find nw corner of the next tile\n",
    "se_lon_degree = (x_tile_num + 1) / n * 360.0 - 180.0\n",
    "lat_rad = math.atan(math.sinh(math.pi * (1 - 2 * (y_tile_num + 1) / n)))\n",
    "se_lat_degree = math.degrees(lat_rad)\n",
    "\n",
    "BBox = (\n",
    "    nw_lon_degree, # min longitude\n",
    "    se_lon_degree, # max longitude\n",
    "    se_lat_degree, # min latitude\n",
    "    nw_lat_degree, # max latitude\n",
    ")\n",
    "\n",
    "print(BBox)\n",
    "with open(\"data/BBox.txt\", \"w\") as f:\n",
    "    print(BBox, file=f)"
   ],
   "metadata": {
    "collapsed": false,
    "ExecuteTime": {
     "end_time": "2023-09-23T08:23:44.466630Z",
     "start_time": "2023-09-23T08:23:44.461920Z"
    }
   }
  },
  {
   "cell_type": "markdown",
   "metadata": {
    "collapsed": false
   },
   "source": [
    "### Import of the dataset"
   ]
  },
  {
   "cell_type": "code",
   "execution_count": 3,
   "metadata": {
    "collapsed": false,
    "ExecuteTime": {
     "end_time": "2023-10-15T12:54:16.241432Z",
     "start_time": "2023-10-15T12:54:15.710682Z"
    }
   },
   "outputs": [],
   "source": [
    "import pandas as pd"
   ]
  },
  {
   "cell_type": "code",
   "execution_count": 42,
   "metadata": {
    "collapsed": true,
    "ExecuteTime": {
     "end_time": "2023-09-23T08:33:38.992755Z",
     "start_time": "2023-09-23T08:33:37.809477Z"
    }
   },
   "outputs": [],
   "source": [
    "italy_cells_1 = pd.read_csv(\n",
    "    \"assets/italy_cells_1.csv\",\n",
    "    names=[\"radio\", 'mcc', 'mnc', 'area', 'cell', \"unit\", 'lon', 'lat', 'range', \"samples\", \"changeable\", \"created\", \"updated\", \"avg_signal\"],\n",
    "    usecols=[\"mcc\", \"mnc\", \"area\", \"cell\", \"lon\", \"lat\"],\n",
    ")\n",
    "\n",
    "italy_cells_2 = pd.read_csv(\n",
    "    \"assets/italy_cells_2.csv\",\n",
    "    names=[\"radio\", 'mcc', 'mnc', 'area', 'cell', \"unit\", 'lon', 'lat', 'range', \"samples\", \"changeable\", \"created\", \"updated\", \"avg_signal\"],\n",
    "    usecols=[\"mcc\", \"mnc\", \"area\", \"cell\", \"lon\", \"lat\"],\n",
    ")\n",
    "\n",
    "cell_dataset = pd.concat([italy_cells_1, italy_cells_2])"
   ]
  },
  {
   "cell_type": "code",
   "execution_count": 44,
   "metadata": {
    "ExecuteTime": {
     "end_time": "2023-09-23T08:33:51.187275Z",
     "start_time": "2023-09-23T08:33:51.183684Z"
    }
   },
   "outputs": [
    {
     "name": "stdout",
     "output_type": "stream",
     "text": [
      "<class 'pandas.core.frame.DataFrame'>\n",
      "Index: 3686474 entries, 0 to 1439027\n",
      "Data columns (total 6 columns):\n",
      " #   Column  Dtype  \n",
      "---  ------  -----  \n",
      " 0   mcc     int64  \n",
      " 1   mnc     int64  \n",
      " 2   area    int64  \n",
      " 3   cell    int64  \n",
      " 4   lon     float64\n",
      " 5   lat     float64\n",
      "dtypes: float64(2), int64(4)\n",
      "memory usage: 196.9 MB\n"
     ]
    }
   ],
   "source": [
    "cell_dataset.info()"
   ]
  },
  {
   "cell_type": "code",
   "execution_count": 43,
   "metadata": {
    "collapsed": false,
    "ExecuteTime": {
     "end_time": "2023-09-23T08:33:42.292374Z",
     "start_time": "2023-09-23T08:33:42.158987Z"
    }
   },
   "outputs": [
    {
     "data": {
      "text/plain": "   mcc  mnc   area      cell       lon        lat\n0  208   10  18013   8653445  2.272110  48.980484\n1  208   10  16505  47046446  2.540156  50.485447\n2  208   20     80     17939 -1.229193  49.292793\n3  208   20     80     18060 -1.214537  49.290525\n4  208    1  29191  26486747  7.172216  43.753281",
      "text/html": "<div>\n<style scoped>\n    .dataframe tbody tr th:only-of-type {\n        vertical-align: middle;\n    }\n\n    .dataframe tbody tr th {\n        vertical-align: top;\n    }\n\n    .dataframe thead th {\n        text-align: right;\n    }\n</style>\n<table border=\"1\" class=\"dataframe\">\n  <thead>\n    <tr style=\"text-align: right;\">\n      <th></th>\n      <th>mcc</th>\n      <th>mnc</th>\n      <th>area</th>\n      <th>cell</th>\n      <th>lon</th>\n      <th>lat</th>\n    </tr>\n  </thead>\n  <tbody>\n    <tr>\n      <th>0</th>\n      <td>208</td>\n      <td>10</td>\n      <td>18013</td>\n      <td>8653445</td>\n      <td>2.272110</td>\n      <td>48.980484</td>\n    </tr>\n    <tr>\n      <th>1</th>\n      <td>208</td>\n      <td>10</td>\n      <td>16505</td>\n      <td>47046446</td>\n      <td>2.540156</td>\n      <td>50.485447</td>\n    </tr>\n    <tr>\n      <th>2</th>\n      <td>208</td>\n      <td>20</td>\n      <td>80</td>\n      <td>17939</td>\n      <td>-1.229193</td>\n      <td>49.292793</td>\n    </tr>\n    <tr>\n      <th>3</th>\n      <td>208</td>\n      <td>20</td>\n      <td>80</td>\n      <td>18060</td>\n      <td>-1.214537</td>\n      <td>49.290525</td>\n    </tr>\n    <tr>\n      <th>4</th>\n      <td>208</td>\n      <td>1</td>\n      <td>29191</td>\n      <td>26486747</td>\n      <td>7.172216</td>\n      <td>43.753281</td>\n    </tr>\n  </tbody>\n</table>\n</div>"
     },
     "execution_count": 43,
     "metadata": {},
     "output_type": "execute_result"
    }
   ],
   "source": [
    "cell_dataset.head()"
   ]
  },
  {
   "cell_type": "markdown",
   "metadata": {
    "collapsed": false
   },
   "source": [
    "### Duplicates elimination"
   ]
  },
  {
   "cell_type": "markdown",
   "metadata": {
    "collapsed": false
   },
   "source": [
    "Each cell is uniquely identified by the tuple `(MCC, MNC, Area, Cell)`. Since the dataset contain some minor data duplication (more than one row for the same cell), here duplicates are removed.\n"
   ]
  },
  {
   "cell_type": "code",
   "execution_count": 45,
   "metadata": {
    "collapsed": false,
    "ExecuteTime": {
     "end_time": "2023-09-23T08:33:59.216525Z",
     "start_time": "2023-09-23T08:33:58.697388Z"
    }
   },
   "outputs": [
    {
     "name": "stdout",
     "output_type": "stream",
     "text": [
      "12284 duplicates have been deleted\n"
     ]
    }
   ],
   "source": [
    "original_row_number = len(cell_dataset)\n",
    "cleaned_dataset = cell_dataset.drop_duplicates(\n",
    "    subset=['mcc', 'mnc', 'area', 'cell'],\n",
    "    inplace=False\n",
    ")\n",
    "print(f\"{original_row_number - len(cleaned_dataset)} duplicates have been deleted\")"
   ]
  },
  {
   "cell_type": "markdown",
   "metadata": {
    "collapsed": false
   },
   "source": [
    "### Drop not used columns"
   ]
  },
  {
   "cell_type": "code",
   "execution_count": 48,
   "metadata": {
    "collapsed": false,
    "ExecuteTime": {
     "end_time": "2023-09-23T08:34:27.654167Z",
     "start_time": "2023-09-23T08:34:27.634055Z"
    }
   },
   "outputs": [
    {
     "name": "stderr",
     "output_type": "stream",
     "text": [
      "/var/folders/5d/xx8nncdn3f3fh2s7gf6xv7vr0000gq/T/ipykernel_2819/565520308.py:1: SettingWithCopyWarning: \n",
      "A value is trying to be set on a copy of a slice from a DataFrame\n",
      "\n",
      "See the caveats in the documentation: https://pandas.pydata.org/pandas-docs/stable/user_guide/indexing.html#returning-a-view-versus-a-copy\n",
      "  cleaned_dataset.drop(columns=['mcc', 'mnc', 'area'], inplace=True)\n"
     ]
    }
   ],
   "source": [
    "cleaned_dataset.drop(columns=['mcc', 'mnc', 'area'], inplace=True)"
   ]
  },
  {
   "cell_type": "markdown",
   "metadata": {
    "collapsed": false
   },
   "source": [
    "### Save"
   ]
  },
  {
   "cell_type": "code",
   "execution_count": 49,
   "metadata": {
    "collapsed": false,
    "ExecuteTime": {
     "end_time": "2023-09-23T08:34:37.402434Z",
     "start_time": "2023-09-23T08:34:37.098861Z"
    }
   },
   "outputs": [],
   "source": [
    "cleaned_dataset.to_parquet(\"assets/italy_cell_cleaned.parquet\", index=False)"
   ]
  },
  {
   "cell_type": "markdown",
   "source": [
    "### Filter towers in Milan and save"
   ],
   "metadata": {
    "collapsed": false
   }
  },
  {
   "cell_type": "code",
   "execution_count": 50,
   "outputs": [],
   "source": [
    "milan_cells = cleaned_dataset[\n",
    "    (cleaned_dataset.lon >= BBox[0]) &\n",
    "    (cleaned_dataset.lon <= BBox[1]) &\n",
    "    (cleaned_dataset.lat >= BBox[2]) &\n",
    "    (cleaned_dataset.lat <= BBox[3])\n",
    "]"
   ],
   "metadata": {
    "collapsed": false,
    "ExecuteTime": {
     "end_time": "2023-09-23T08:34:40.305115Z",
     "start_time": "2023-09-23T08:34:40.278638Z"
    }
   }
  },
  {
   "cell_type": "code",
   "execution_count": 51,
   "outputs": [],
   "source": [
    "milan_cells.reset_index(drop=True, inplace=True)"
   ],
   "metadata": {
    "collapsed": false,
    "ExecuteTime": {
     "end_time": "2023-09-23T08:34:44.660003Z",
     "start_time": "2023-09-23T08:34:44.655150Z"
    }
   }
  },
  {
   "cell_type": "code",
   "execution_count": 54,
   "outputs": [],
   "source": [
    "milan_cells.to_parquet(\"assets/milan_cells.parquet\", index=False)"
   ],
   "metadata": {
    "collapsed": false,
    "ExecuteTime": {
     "end_time": "2023-09-23T08:35:35.173906Z",
     "start_time": "2023-09-23T08:35:35.127646Z"
    }
   }
  },
  {
   "cell_type": "markdown",
   "source": [
    "### Porto cells"
   ],
   "metadata": {
    "collapsed": false
   }
  },
  {
   "cell_type": "code",
   "execution_count": 1,
   "outputs": [],
   "source": [
    "LON_MIN = -8.6338\n",
    "LON_MAX = -8.5862\n",
    "LAT_MIN = 41.1369\n",
    "LAT_MAX = 41.1690\n",
    "BBox = (LON_MIN, LON_MAX, LAT_MIN, LAT_MAX)"
   ],
   "metadata": {
    "collapsed": false,
    "ExecuteTime": {
     "end_time": "2023-10-15T12:54:11.895780Z",
     "start_time": "2023-10-15T12:54:11.893025Z"
    }
   }
  },
  {
   "cell_type": "code",
   "execution_count": 4,
   "outputs": [],
   "source": [
    "porto_cells = pd.read_csv(\n",
    "    \"assets/portugal_cells.csv\",\n",
    "    names=[\"radio\", 'mcc', 'mnc', 'area', 'cell', \"unit\", 'lon', 'lat', 'range', \"samples\", \"changeable\", \"created\", \"updated\", \"avg_signal\"],\n",
    "    usecols=[\"mcc\", \"mnc\", \"area\", \"cell\", \"lon\", \"lat\"],\n",
    ")"
   ],
   "metadata": {
    "collapsed": false,
    "ExecuteTime": {
     "end_time": "2023-10-15T12:54:19.001050Z",
     "start_time": "2023-10-15T12:54:18.937066Z"
    }
   }
  },
  {
   "cell_type": "code",
   "execution_count": 5,
   "outputs": [
    {
     "name": "stdout",
     "output_type": "stream",
     "text": [
      "625 duplicates have been deleted\n"
     ]
    }
   ],
   "source": [
    "original_row_number = len(porto_cells)\n",
    "cleaned_dataset = porto_cells.drop_duplicates(\n",
    "    subset=['mcc', 'mnc', 'area', 'cell'],\n",
    "    inplace=False\n",
    ")\n",
    "print(f\"{original_row_number - len(cleaned_dataset)} duplicates have been deleted\")"
   ],
   "metadata": {
    "collapsed": false,
    "ExecuteTime": {
     "end_time": "2023-10-15T12:54:36.927919Z",
     "start_time": "2023-10-15T12:54:36.756177Z"
    }
   }
  },
  {
   "cell_type": "code",
   "execution_count": 6,
   "outputs": [
    {
     "name": "stderr",
     "output_type": "stream",
     "text": [
      "/var/folders/5d/xx8nncdn3f3fh2s7gf6xv7vr0000gq/T/ipykernel_10211/565520308.py:1: SettingWithCopyWarning: \n",
      "A value is trying to be set on a copy of a slice from a DataFrame\n",
      "\n",
      "See the caveats in the documentation: https://pandas.pydata.org/pandas-docs/stable/user_guide/indexing.html#returning-a-view-versus-a-copy\n",
      "  cleaned_dataset.drop(columns=['mcc', 'mnc', 'area'], inplace=True)\n"
     ]
    }
   ],
   "source": [
    "cleaned_dataset.drop(columns=['mcc', 'mnc', 'area'], inplace=True)"
   ],
   "metadata": {
    "collapsed": false,
    "ExecuteTime": {
     "end_time": "2023-10-15T12:54:45.975171Z",
     "start_time": "2023-10-15T12:54:45.966071Z"
    }
   }
  },
  {
   "cell_type": "code",
   "execution_count": 7,
   "outputs": [],
   "source": [
    "porto_cells = cleaned_dataset[\n",
    "    (cleaned_dataset.lon >= BBox[0]) &\n",
    "    (cleaned_dataset.lon <= BBox[1]) &\n",
    "    (cleaned_dataset.lat >= BBox[2]) &\n",
    "    (cleaned_dataset.lat <= BBox[3])\n",
    "]"
   ],
   "metadata": {
    "collapsed": false,
    "ExecuteTime": {
     "end_time": "2023-10-15T12:55:02.282036Z",
     "start_time": "2023-10-15T12:55:02.272632Z"
    }
   }
  },
  {
   "cell_type": "code",
   "execution_count": 8,
   "outputs": [],
   "source": [
    "porto_cells.reset_index(drop=True, inplace=True)"
   ],
   "metadata": {
    "collapsed": false,
    "ExecuteTime": {
     "end_time": "2023-10-15T12:55:16.621700Z",
     "start_time": "2023-10-15T12:55:16.611927Z"
    }
   }
  },
  {
   "cell_type": "code",
   "execution_count": 9,
   "outputs": [],
   "source": [
    "porto_cells.to_parquet(\"assets/porto_cells.parquet\", index=False)"
   ],
   "metadata": {
    "collapsed": false,
    "ExecuteTime": {
     "end_time": "2023-10-15T12:55:33.403941Z",
     "start_time": "2023-10-15T12:55:33.242024Z"
    }
   }
  }
 ],
 "metadata": {
  "kernelspec": {
   "display_name": "Python 3",
   "language": "python",
   "name": "python3"
  },
  "language_info": {
   "codemirror_mode": {
    "name": "ipython",
    "version": 3
   },
   "file_extension": ".py",
   "mimetype": "text/x-python",
   "name": "python",
   "nbconvert_exporter": "python",
   "pygments_lexer": "ipython3",
   "version": "3.10.9"
  }
 },
 "nbformat": 4,
 "nbformat_minor": 0
}
