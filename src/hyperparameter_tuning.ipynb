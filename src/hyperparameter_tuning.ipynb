{
 "cells": [
  {
   "cell_type": "code",
   "execution_count": 6,
   "outputs": [],
   "source": [
    "import json\n",
    "from pathlib import Path\n",
    "\n",
    "import keras\n",
    "from keras import Sequential, Input\n",
    "import keras_tuner\n",
    "from keras.callbacks import EarlyStopping\n",
    "from keras.layers import LSTM, Dropout, Dense\n",
    "from keras.metrics import RootMeanSquaredError\n",
    "from keras.src.optimizers import Adam\n",
    "\n",
    "from utils.centralized_training import _build_centralized_model_dataset\n",
    "from gossiplearning.config import parse_config\n",
    "from keras.src.layers import RepeatVector"
   ],
   "metadata": {
    "collapsed": false,
    "ExecuteTime": {
     "end_time": "2023-07-10T06:49:17.136437Z",
     "start_time": "2023-07-10T06:49:17.133355Z"
    }
   }
  },
  {
   "cell_type": "code",
   "execution_count": 7,
   "outputs": [],
   "source": [
    "\n",
    "with open(\"config.json\", \"r\") as f:\n",
    "    config = json.load(f)\n",
    "    config = parse_config(config)"
   ],
   "metadata": {
    "collapsed": false,
    "ExecuteTime": {
     "end_time": "2023-07-10T06:49:17.139810Z",
     "start_time": "2023-07-10T06:49:17.136871Z"
    }
   }
  },
  {
   "cell_type": "code",
   "execution_count": 8,
   "metadata": {
    "collapsed": true,
    "ExecuteTime": {
     "end_time": "2023-07-10T06:49:17.145162Z",
     "start_time": "2023-07-10T06:49:17.143319Z"
    }
   },
   "outputs": [],
   "source": [
    "def model_builder(hp: keras_tuner.HyperParameters) -> keras.Model:\n",
    "    model = Sequential()\n",
    "\n",
    "    model.add(\n",
    "        LSTM(\n",
    "            hp.Int(min_value=16, max_value=320, step=16, name=\"lstm_layer_1_dim\"),\n",
    "            activation=\"tanh\",\n",
    "            input_shape=(16, 4),\n",
    "        )\n",
    "    )\n",
    "\n",
    "    if hp.Boolean(\"dropout_1\"):\n",
    "        model.add(\n",
    "            Dropout(hp.Float(name=\"dropout_1_rate\", min_value=0.1, max_value=0.5, step=0.05))\n",
    "        )\n",
    "\n",
    "    if hp.Boolean(\"lstm_2\"):\n",
    "        model.add(RepeatVector(1)),\n",
    "        model.add(\n",
    "            LSTM(\n",
    "                hp.Int(min_value=16, max_value=320, step=16, name=\"lstm_layer_2_dim\"),\n",
    "                activation=\"tanh\",\n",
    "                return_sequences=True,\n",
    "            )\n",
    "        )\n",
    "\n",
    "    if hp.Boolean(\"dropout_2\"):\n",
    "        model.add(\n",
    "            Dropout(hp.Float(name=\"dropout_2_rate\", min_value=0.1, max_value=0.5, step=0.05))\n",
    "        )\n",
    "\n",
    "    if hp.Boolean(\"dense\"):\n",
    "        model.add(\n",
    "            Dense(\n",
    "                hp.Int(min_value=16, max_value=320, step=16, name=\"dense_dim\"),\n",
    "                activation=\"relu\"\n",
    "            )\n",
    "        )\n",
    "\n",
    "    model.add(\n",
    "        Dense(4, activation='relu')\n",
    "    )\n",
    "\n",
    "    optz = Adam(\n",
    "        learning_rate=hp.Float(min_value=0.0005, max_value=0.01, step=0.0005, name=\"learning_rate\")\n",
    "    )\n",
    "\n",
    "    model.compile(optimizer=optz, loss='mse', metrics=[\"mae\", \"msle\", \"mse\", \"mape\", RootMeanSquaredError()])\n",
    "    return model"
   ]
  },
  {
   "cell_type": "code",
   "execution_count": 9,
   "outputs": [
    {
     "name": "stderr",
     "output_type": "stream",
     "text": [
      "2023-07-10 08:49:17.149979: I metal_plugin/src/device/metal_device.cc:1154] Metal device set to: Apple M1 Pro\n",
      "2023-07-10 08:49:17.150008: I metal_plugin/src/device/metal_device.cc:296] systemMemory: 32.00 GB\n",
      "2023-07-10 08:49:17.150018: I metal_plugin/src/device/metal_device.cc:313] maxCacheSize: 10.67 GB\n",
      "2023-07-10 08:49:17.150052: I tensorflow/core/common_runtime/pluggable_device/pluggable_device_factory.cc:303] Could not identify NUMA node of platform GPU ID 0, defaulting to 0. Your kernel may not have been built with NUMA support.\n",
      "2023-07-10 08:49:17.150072: I tensorflow/core/common_runtime/pluggable_device/pluggable_device_factory.cc:269] Created TensorFlow device (/job:localhost/replica:0/task:0/device:GPU:0 with 0 MB memory) -> physical PluggableDevice (device: 0, name: METAL, pci bus id: <undefined>)\n"
     ]
    }
   ],
   "source": [
    "tuner = keras_tuner.RandomSearch(\n",
    "    model_builder,\n",
    "    objective='val_loss',\n",
    "    max_trials=30,\n",
    ")"
   ],
   "metadata": {
    "collapsed": false,
    "ExecuteTime": {
     "end_time": "2023-07-10T06:49:17.467810Z",
     "start_time": "2023-07-10T06:49:17.146411Z"
    }
   }
  },
  {
   "cell_type": "code",
   "execution_count": 10,
   "outputs": [],
   "source": [
    "train, val, _ = _build_centralized_model_dataset(Path(\"data/datasets/4func_10nodes/0\"), config)"
   ],
   "metadata": {
    "collapsed": false,
    "ExecuteTime": {
     "end_time": "2023-07-10T06:49:17.501557Z",
     "start_time": "2023-07-10T06:49:17.469324Z"
    }
   }
  },
  {
   "cell_type": "code",
   "execution_count": 11,
   "outputs": [
    {
     "name": "stdout",
     "output_type": "stream",
     "text": [
      "Trial 30 Complete [00h 05m 12s]\n",
      "val_loss: 0.02101859264075756\n",
      "\n",
      "Best val_loss So Far: 0.020821115002036095\n",
      "Total elapsed time: 01h 41m 54s\n",
      "INFO:tensorflow:Oracle triggered exit\n"
     ]
    }
   ],
   "source": [
    "early_stopping = EarlyStopping(\n",
    "        monitor=\"val_loss\",\n",
    "        patience=config.training.patience,\n",
    "        min_delta=config.training.min_delta,\n",
    "        restore_best_weights=True\n",
    "    )\n",
    "\n",
    "tuner.search(train[0], train[1], validation_data=val, callbacks=[early_stopping], epochs=1000)"
   ],
   "metadata": {
    "collapsed": false
   }
  },
  {
   "cell_type": "code",
   "execution_count": 12,
   "outputs": [
    {
     "name": "stdout",
     "output_type": "stream",
     "text": [
      "Results summary\n",
      "Results in ./untitled_project\n",
      "Showing 1 best trials\n",
      "Objective(name=\"val_loss\", direction=\"min\")\n",
      "\n",
      "Trial 07 summary\n",
      "Hyperparameters:\n",
      "lstm_layer_1_dim: 48\n",
      "dropout_1: True\n",
      "lstm_2: True\n",
      "dropout_2: False\n",
      "dense: True\n",
      "learning_rate: 0.006\n",
      "dense_dim: 224\n",
      "dropout_1_rate: 0.1\n",
      "dropout_2_rate: 0.2\n",
      "lstm_layer_2_dim: 112\n",
      "Score: 0.020821115002036095\n"
     ]
    }
   ],
   "source": [
    "tuner.results_summary(num_trials=1)"
   ],
   "metadata": {
    "collapsed": false,
    "ExecuteTime": {
     "end_time": "2023-07-10T08:31:11.477978Z",
     "start_time": "2023-07-10T08:31:11.475266Z"
    }
   }
  },
  {
   "cell_type": "code",
   "execution_count": 12,
   "outputs": [],
   "source": [],
   "metadata": {
    "collapsed": false,
    "ExecuteTime": {
     "end_time": "2023-07-10T08:31:11.480357Z",
     "start_time": "2023-07-10T08:31:11.478407Z"
    }
   }
  }
 ],
 "metadata": {
  "kernelspec": {
   "display_name": "Python 3",
   "language": "python",
   "name": "python3"
  },
  "language_info": {
   "codemirror_mode": {
    "name": "ipython",
    "version": 2
   },
   "file_extension": ".py",
   "mimetype": "text/x-python",
   "name": "python",
   "nbconvert_exporter": "python",
   "pygments_lexer": "ipython2",
   "version": "2.7.6"
  }
 },
 "nbformat": 4,
 "nbformat_minor": 0
}
